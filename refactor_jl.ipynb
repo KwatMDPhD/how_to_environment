{
 "cells": [
  {
   "cell_type": "code",
   "execution_count": null,
   "id": "dcba68e4",
   "metadata": {},
   "outputs": [],
   "source": [
    "using Revise\n",
    "using BenchmarkTools"
   ]
  },
  {
   "cell_type": "code",
   "execution_count": null,
   "id": "70385d15",
   "metadata": {},
   "outputs": [],
   "source": [
    "using Pkg\n",
    "\n",
    "#using PkgRepository"
   ]
  },
  {
   "cell_type": "code",
   "execution_count": null,
   "id": "d96937e9",
   "metadata": {},
   "outputs": [],
   "source": [
    "ro = \"/Users/kwat/craft/\"\n",
    "\n",
    "sk_ = [\"TemplatePkgRepository.jl\", \"CleanCode.jl\"]\n",
    "\n",
    ";"
   ]
  },
  {
   "cell_type": "code",
   "execution_count": null,
   "id": "aae28236",
   "metadata": {
    "scrolled": false
   },
   "outputs": [],
   "source": [
    "for (ro, di_, fi_) in walkdir(ro; topdown = false)\n",
    "\n",
    "    na = splitdir(ro)[2]\n",
    "\n",
    "    if \"Project.toml\" in fi_\n",
    "\n",
    "        if any(na == sk for sk in sk_)\n",
    "\n",
    "            continue\n",
    "\n",
    "        end\n",
    "\n",
    "        println(\"-\"^80)\n",
    "\n",
    "        println(ro)\n",
    "\n",
    "        try\n",
    "\n",
    "            #error_project_toml(ro, splitext(splitdir(ro)[2])[1])\n",
    "\n",
    "            #export_nb(ro)\n",
    "\n",
    "        catch er\n",
    "\n",
    "            println(er)\n",
    "\n",
    "        end\n",
    "\n",
    "        Pkg.activate(ro)\n",
    "\n",
    "        Pkg.update()\n",
    "\n",
    "        #Pkg.test()\n",
    "\n",
    "    end\n",
    "\n",
    "end"
   ]
  }
 ],
 "metadata": {
  "@webio": {
   "lastCommId": null,
   "lastKernelId": null
  },
  "kernelspec": {
   "display_name": "Julia 1.6.3",
   "language": "julia",
   "name": "julia-1.6"
  },
  "language_info": {
   "file_extension": ".jl",
   "mimetype": "application/julia",
   "name": "julia",
   "version": "1.6.3"
  }
 },
 "nbformat": 4,
 "nbformat_minor": 5
}
